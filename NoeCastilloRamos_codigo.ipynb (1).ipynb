{
  "nbformat": 4,
  "nbformat_minor": 0,
  "metadata": {
    "colab": {
      "provenance": []
    },
    "kernelspec": {
      "name": "python3",
      "display_name": "Python 3"
    },
    "language_info": {
      "name": "python"
    }
  },
  "cells": [
    {
      "cell_type": "markdown",
      "source": [
        "**Suma de matrices:**\n",
        "\n",
        "Para sumar dos matrices, simplemente utilizamos el operador *+*, aunque deben tener la misma dimensión."
      ],
      "metadata": {
        "id": "X9zt21s06bW1"
      }
    },
    {
      "cell_type": "code",
      "execution_count": 1,
      "metadata": {
        "colab": {
          "base_uri": "https://localhost:8080/"
        },
        "id": "EUS5uN026EI8",
        "outputId": "82850cbd-0a02-468c-b3d6-425bbf741bd2"
      },
      "outputs": [
        {
          "output_type": "stream",
          "name": "stdout",
          "text": [
            "Suma de matrices:\n",
            "[[ 6  8]\n",
            " [10 12]]\n"
          ]
        }
      ],
      "source": [
        "import numpy as np\n",
        "\n",
        "matriz1 = np.array([[1, 2], [3, 4]])\n",
        "matriz2 = np.array([[5, 6], [7, 8]])\n",
        "\n",
        "suma = matriz1 + matriz2\n",
        "print(\"Suma de matrices:\")\n",
        "print(suma)"
      ]
    },
    {
      "cell_type": "markdown",
      "source": [
        "**Multiplicación entre matrices:**\n",
        "\n",
        " Utilizamos el método dot() o el operador @ para multiplicar matrices"
      ],
      "metadata": {
        "id": "f2mqIBlP6qVx"
      }
    },
    {
      "cell_type": "code",
      "source": [
        "multiplicacion = matriz1.dot(matriz2)\n",
        "multiplicacion2 = matriz1 @ matriz2\n",
        "\n",
        "print(\"Multiplicación entre matrices:\")\n",
        "\n",
        "\n",
        "print(multiplicacion)\n",
        "print(multiplicacion2)"
      ],
      "metadata": {
        "colab": {
          "base_uri": "https://localhost:8080/"
        },
        "id": "V7vxYU5e6zIi",
        "outputId": "33e5839e-dbe4-458a-aaf0-19ccda1ff6d2"
      },
      "execution_count": 3,
      "outputs": [
        {
          "output_type": "stream",
          "name": "stdout",
          "text": [
            "Multiplicación entre matrices:\n",
            "[[19 22]\n",
            " [43 50]]\n",
            "[[19 22]\n",
            " [43 50]]\n"
          ]
        }
      ]
    },
    {
      "cell_type": "markdown",
      "source": [
        "**Multiplicación por escalar:**\n",
        "\n",
        "Multiplicamos cada elemento de la matriz por un número escalar"
      ],
      "metadata": {
        "id": "ZBJOZS-t8vOX"
      }
    },
    {
      "cell_type": "code",
      "source": [
        "escalar = 2\n",
        "matriz_escalar = matriz1 * escalar\n",
        "print(\"Matriz multiplicada por escalar:\")\n",
        "print(matriz_escalar)\n"
      ],
      "metadata": {
        "colab": {
          "base_uri": "https://localhost:8080/"
        },
        "id": "mwhnj98c7Dmr",
        "outputId": "b9b09f1c-29eb-4b11-ed5e-1bc63f01d40e"
      },
      "execution_count": 4,
      "outputs": [
        {
          "output_type": "stream",
          "name": "stdout",
          "text": [
            "Matriz multiplicada por escalar:\n",
            "[[2 4]\n",
            " [6 8]]\n"
          ]
        }
      ]
    },
    {
      "cell_type": "markdown",
      "source": [
        "**Cálculo de inversa:**\n",
        "\n",
        "Para calcular la inversa de una matriz, utilizamos np.linalg.inv()"
      ],
      "metadata": {
        "id": "McpxJbmc888N"
      }
    },
    {
      "cell_type": "code",
      "source": [
        "matriz_inversa = np.linalg.inv(matriz1)\n",
        "print(\"Matriz inversa:\")\n",
        "print(matriz_inversa)\n"
      ],
      "metadata": {
        "colab": {
          "base_uri": "https://localhost:8080/"
        },
        "id": "b1OJXKpP9BIF",
        "outputId": "8a50312d-94a3-44a0-85a8-31f91b31659b"
      },
      "execution_count": 5,
      "outputs": [
        {
          "output_type": "stream",
          "name": "stdout",
          "text": [
            "Matriz inversa:\n",
            "[[-2.   1. ]\n",
            " [ 1.5 -0.5]]\n"
          ]
        }
      ]
    },
    {
      "cell_type": "markdown",
      "source": [
        "**Cálculo del determinante:**\n",
        "\n",
        "El determinante de una matriz se obtiene con np.linalg.det()."
      ],
      "metadata": {
        "id": "2C1NJqIr9Gd5"
      }
    },
    {
      "cell_type": "code",
      "source": [
        "determinante = np.linalg.det(matriz1)\n",
        "print(\"Determinante:\")\n",
        "print(determinante)\n"
      ],
      "metadata": {
        "colab": {
          "base_uri": "https://localhost:8080/"
        },
        "id": "e9AfQeAY9FR2",
        "outputId": "6682d944-1575-4f3e-c525-6d1db188b49e"
      },
      "execution_count": 6,
      "outputs": [
        {
          "output_type": "stream",
          "name": "stdout",
          "text": [
            "Determinante:\n",
            "-2.0000000000000004\n"
          ]
        }
      ]
    },
    {
      "cell_type": "markdown",
      "source": [
        "**Solución por Gauss-Jordan:**\n",
        "\n",
        "Para resolver sistemas de ecuaciones lineales, podemos usar np.linalg.solve()."
      ],
      "metadata": {
        "id": "2frarg_i9Ms2"
      }
    },
    {
      "cell_type": "code",
      "source": [
        "b = np.array([5, 6])\n",
        "solucion = np.linalg.solve(matriz1, b)\n",
        "print(\"Solución por Gauss-Jordan:\")\n",
        "print(solucion)\n"
      ],
      "metadata": {
        "colab": {
          "base_uri": "https://localhost:8080/"
        },
        "id": "Tz70PHwC9Ol_",
        "outputId": "50cd067f-fbbd-4b6a-abd6-7a25ebca6eb1"
      },
      "execution_count": 7,
      "outputs": [
        {
          "output_type": "stream",
          "name": "stdout",
          "text": [
            "Solución por Gauss-Jordan:\n",
            "[-4.   4.5]\n"
          ]
        }
      ]
    },
    {
      "cell_type": "markdown",
      "source": [
        "**Construir una matriz identidad:**\n",
        "\n",
        "La matriz identidad se crea con np.eye(n), donde n es el tamaño deseado."
      ],
      "metadata": {
        "id": "zspky7tf9R95"
      }
    },
    {
      "cell_type": "code",
      "source": [
        "matriz_identidad = np.eye(3)  # Matriz 3x3\n",
        "print(\"Matriz identidad:\")\n",
        "print(matriz_identidad)\n"
      ],
      "metadata": {
        "colab": {
          "base_uri": "https://localhost:8080/"
        },
        "id": "4a8qXyJ59XqH",
        "outputId": "47f77d23-10ca-4e94-c316-b4186481145b"
      },
      "execution_count": 8,
      "outputs": [
        {
          "output_type": "stream",
          "name": "stdout",
          "text": [
            "Matriz identidad:\n",
            "[[1. 0. 0.]\n",
            " [0. 1. 0.]\n",
            " [0. 0. 1.]]\n"
          ]
        }
      ]
    },
    {
      "cell_type": "markdown",
      "source": [
        "**Matriz nula:**\n",
        "\n",
        "Creamos una matriz de ceros con np.zeros((filas, columnas))"
      ],
      "metadata": {
        "id": "J1jWNBmh9h0n"
      }
    },
    {
      "cell_type": "code",
      "source": [
        "matriz_nula = np.zeros((2, 3))  # Matriz 2x3\n",
        "print(\"Matriz nula:\")\n",
        "print(matriz_nula)\n"
      ],
      "metadata": {
        "colab": {
          "base_uri": "https://localhost:8080/"
        },
        "id": "HXU2Ax-Q9nXV",
        "outputId": "8bdd7c4e-028c-4269-ea37-cd5dc901e134"
      },
      "execution_count": 9,
      "outputs": [
        {
          "output_type": "stream",
          "name": "stdout",
          "text": [
            "Matriz nula:\n",
            "[[0. 0. 0.]\n",
            " [0. 0. 0.]]\n"
          ]
        }
      ]
    },
    {
      "cell_type": "markdown",
      "source": [
        "**Matriz diagonal n × n:**\n",
        "\n",
        "Creamos una matriz diagonal con np.diag([valores])"
      ],
      "metadata": {
        "id": "HhEpPc919j1I"
      }
    },
    {
      "cell_type": "code",
      "source": [
        "valores_diagonal = [1, 2, 3]\n",
        "matriz_diagonal = np.diag(valores_diagonal)\n",
        "print(\"Matriz diagonal:\")\n",
        "print(matriz_diagonal)\n"
      ],
      "metadata": {
        "colab": {
          "base_uri": "https://localhost:8080/"
        },
        "id": "l05VExr69q67",
        "outputId": "7c1b7e33-d80f-4f33-92b8-b859c237dbf7"
      },
      "execution_count": 10,
      "outputs": [
        {
          "output_type": "stream",
          "name": "stdout",
          "text": [
            "Matriz diagonal:\n",
            "[[1 0 0]\n",
            " [0 2 0]\n",
            " [0 0 3]]\n"
          ]
        }
      ]
    },
    {
      "cell_type": "code",
      "source": [
        "economiaIsrael = np.array([[0.293, 0 , 0], [0.014, 0.207, 0.017],[0.044, 0.010, 0.216]])\n",
        "matriz_identidad1 = np.eye(3)\n",
        "print(\"Matriz tecnologica\")\n",
        "print(economiaIsrael)\n",
        "\n",
        "resta= matriz_identidad1 - economiaIsrael\n",
        "\n",
        "print(resta)\n",
        "\n",
        "\n",
        "c = np.array([0.13213, 0.17597, 0.1786])\n",
        "exportacion = np.linalg.inv(resta)\n",
        "ecuacioneLineales= np.dot(exportacion,c)\n",
        "\n",
        "print(\"Porcentaje en libras de exportación necesaria, o bien, matriz de Leontief:\")\n",
        "print(ecuacioneLineales)\n",
        "\n",
        "\n",
        "exportacion2 = np.linalg.solve(resta, c)\n",
        "print(\"Resultado por Gauss Jordan\")\n",
        "print(exportacion2)\n",
        "\n"
      ],
      "metadata": {
        "colab": {
          "base_uri": "https://localhost:8080/"
        },
        "id": "XMoh5F1sGmlA",
        "outputId": "31e6f119-6d76-4386-f41e-302993a76d79"
      },
      "execution_count": 19,
      "outputs": [
        {
          "output_type": "stream",
          "name": "stdout",
          "text": [
            "Matriz tecnologica\n",
            "[[0.293 0.    0.   ]\n",
            " [0.014 0.207 0.017]\n",
            " [0.044 0.01  0.216]]\n",
            "[[ 0.707  0.     0.   ]\n",
            " [-0.014  0.793 -0.017]\n",
            " [-0.044 -0.01   0.784]]\n",
            "Porcentaje en libras de exportación necesaria, o bien, matriz de Leontief:\n",
            "[0.18688826 0.23037503 0.24123321]\n",
            "Resultado por Gauss Jordan\n",
            "[0.18688826 0.23037503 0.24123321]\n"
          ]
        }
      ]
    },
    {
      "cell_type": "markdown",
      "source": [
        "En este código, se calcula primero la inversa de la matriz de coeficientes (resta, que es valor después de las operaciones previas) utilizando np.linalg.inv(). Luego, se resuelve el sistema de ecuaciones lineales multiplicando la matriz inversa por el vector de términos independientes utilizando la función np.dot(). Finalmente, se imprime el resultado. Este método es equivalente al método de eliminación de Gauss, pero utiliza la inversa de la matriz en lugar de realizar operaciones de eliminación."
      ],
      "metadata": {
        "id": "RI1bZggNMpxr"
      }
    },
    {
      "cell_type": "markdown",
      "source": [
        "**Generalizar el codigo para dar solución a un modelo de economía con n sectores y mostrar un ejemplo con n=10**"
      ],
      "metadata": {
        "id": "Q2x5-BDcN2EU"
      }
    },
    {
      "cell_type": "code",
      "source": [
        "import numpy as np\n",
        "\n",
        "def solve_leontief_model(n):\n",
        "    # Genera una matriz tecnológica aleatoria (n x n)\n",
        "    economia = np.random.rand(n, n)\n",
        "    print(economia)\n",
        "\n",
        "    # Crea la matriz identidad (n x n)\n",
        "    matriz_identidad = np.eye(n)\n",
        "\n",
        "    # Calcula la diferencia entre la matriz identidad y la matriz tecnológica\n",
        "    resta = matriz_identidad - economia\n",
        "\n",
        "    # Genera un vector de consumo aleatorio (n elementos)\n",
        "    c = np.random.rand(n)\n",
        "\n",
        "    # Calcula la inversa de la matriz de diferencia\n",
        "    exportacion = np.linalg.inv(resta)\n",
        "\n",
        "    # Resuelve las ecuaciones lineales\n",
        "    ecuacioneLineales = np.dot(exportacion, c)\n",
        "\n",
        "    return ecuacioneLineales\n",
        "\n",
        "# Ejemplo con n = 10\n",
        "n_sectores = 10\n",
        "result = solve_leontief_model(n_sectores)\n",
        "print(f\"Porcentaje en millones de pesos/libras o dolares de exportación necesaria (matriz de Leontief) para {n_sectores} sectores:\")\n",
        "print(result)\n"
      ],
      "metadata": {
        "colab": {
          "base_uri": "https://localhost:8080/"
        },
        "id": "n8M1MJ9QOB2r",
        "outputId": "bb657397-33ad-492b-f7a7-b4ab89e1a237"
      },
      "execution_count": 22,
      "outputs": [
        {
          "output_type": "stream",
          "name": "stdout",
          "text": [
            "[[0.90243585 0.55055786 0.3063648  0.22263337 0.63354517 0.41671993\n",
            "  0.78775654 0.58073874 0.51624989 0.90946241]\n",
            " [0.68758106 0.70723514 0.54579004 0.14515123 0.79143486 0.71966244\n",
            "  0.60020241 0.18488044 0.23775411 0.95864485]\n",
            " [0.33981859 0.23049085 0.32103126 0.15935555 0.20169149 0.58354496\n",
            "  0.04769124 0.86748288 0.45255649 0.50616287]\n",
            " [0.83451015 0.46150267 0.83687955 0.69777145 0.32703323 0.80762467\n",
            "  0.46373212 0.70635379 0.09622278 0.63209589]\n",
            " [0.2149893  0.35624126 0.10090136 0.59168418 0.03797419 0.35417915\n",
            "  0.61801031 0.80213842 0.11268314 0.58541834]\n",
            " [0.32766944 0.20515788 0.83137147 0.03841425 0.39817403 0.36517853\n",
            "  0.20378409 0.06560943 0.49805186 0.55372161]\n",
            " [0.80192372 0.55395857 0.2301404  0.35696846 0.06444806 0.19718311\n",
            "  0.04830836 0.92046772 0.23503562 0.76379145]\n",
            " [0.52780822 0.58395248 0.48113006 0.91892551 0.90693476 0.63665559\n",
            "  0.40111947 0.5985315  0.74455368 0.47838568]\n",
            " [0.38687493 0.97819561 0.88306527 0.95932222 0.31716199 0.21886163\n",
            "  0.6113497  0.26105364 0.76423935 0.54740588]\n",
            " [0.58233993 0.63787802 0.64296151 0.88991069 0.20998531 0.01166267\n",
            "  0.82191818 0.98583397 0.7214138  0.00396369]]\n",
            "Porcentaje en millones de pesos/libras o dolares de exportación necesaria (matriz de Leontief) para 10 sectores:\n",
            "[-0.05569706 -0.03143166 -0.43001306 -0.11927677 -0.23952585  0.09936472\n",
            " -0.02796303 -0.2124743  -0.25457259  0.05975039]\n"
          ]
        }
      ]
    }
  ]
}